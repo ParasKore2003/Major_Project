{
  "nbformat": 4,
  "nbformat_minor": 0,
  "metadata": {
    "colab": {
      "provenance": []
    },
    "kernelspec": {
      "name": "python3",
      "display_name": "Python 3"
    },
    "language_info": {
      "name": "python"
    }
  },
  "cells": [
    {
      "cell_type": "code",
      "execution_count": null,
      "metadata": {
        "colab": {
          "base_uri": "https://localhost:8080/"
        },
        "id": "IU4ELPmqmsV-",
        "outputId": "f2f36e8a-e776-4426-8265-dc2eebb2c9c3"
      },
      "outputs": [
        {
          "output_type": "stream",
          "name": "stdout",
          "text": [
            "Mounted at drive\n"
          ]
        }
      ],
      "source": [
        "from google.colab import drive\n",
        "drive.mount('drive')"
      ]
    },
    {
      "cell_type": "code",
      "source": [
        "import numpy as np\n",
        "import pandas as pd\n",
        "import matplotlib.pyplot as plt\n",
        "from tqdm import tqdm\n",
        "import warnings\n",
        "warnings.filterwarnings('ignore')"
      ],
      "metadata": {
        "id": "U6Cgv1pEn5lU"
      },
      "execution_count": null,
      "outputs": []
    },
    {
      "cell_type": "code",
      "source": [
        "%%time\n",
        "df = pd.read_csv(\"/content/drive/MyDrive/Major Project/dataset.csv\", index_col = 'Index')"
      ],
      "metadata": {
        "colab": {
          "base_uri": "https://localhost:8080/"
        },
        "id": "8ylClfvpolma",
        "outputId": "ed8f6bf0-aa6f-4b94-b9b2-0412be5a0eb5"
      },
      "execution_count": null,
      "outputs": [
        {
          "output_type": "stream",
          "name": "stdout",
          "text": [
            "CPU times: user 40.1 s, sys: 5.78 s, total: 45.9 s\n",
            "Wall time: 1min 8s\n"
          ]
        }
      ]
    },
    {
      "cell_type": "code",
      "source": [
        "df.info()"
      ],
      "metadata": {
        "colab": {
          "base_uri": "https://localhost:8080/"
        },
        "id": "rOt08bgjo23t",
        "outputId": "bfa6cb94-5b12-4a15-c624-a19d3a704a48"
      },
      "execution_count": null,
      "outputs": [
        {
          "output_type": "stream",
          "name": "stdout",
          "text": [
            "<class 'pandas.core.frame.DataFrame'>\n",
            "Index: 5956842 entries, 0 to 5956841\n",
            "Data columns (total 23 columns):\n",
            " #   Column                  Dtype  \n",
            "---  ------                  -----  \n",
            " 0   pH                      float64\n",
            " 1   Iron                    float64\n",
            " 2   Nitrate                 float64\n",
            " 3   Chloride                float64\n",
            " 4   Lead                    float64\n",
            " 5   Zinc                    float64\n",
            " 6   Color                   object \n",
            " 7   Turbidity               float64\n",
            " 8   Fluoride                float64\n",
            " 9   Copper                  float64\n",
            " 10  Odor                    float64\n",
            " 11  Sulfate                 float64\n",
            " 12  Conductivity            float64\n",
            " 13  Chlorine                float64\n",
            " 14  Manganese               float64\n",
            " 15  Total Dissolved Solids  float64\n",
            " 16  Source                  object \n",
            " 17  Water Temperature       float64\n",
            " 18  Air Temperature         float64\n",
            " 19  Month                   object \n",
            " 20  Day                     float64\n",
            " 21  Time of Day             float64\n",
            " 22  Target                  int64  \n",
            "dtypes: float64(19), int64(1), object(3)\n",
            "memory usage: 1.1+ GB\n"
          ]
        }
      ]
    },
    {
      "cell_type": "code",
      "source": [
        "df['Target'].value_counts()"
      ],
      "metadata": {
        "colab": {
          "base_uri": "https://localhost:8080/",
          "height": 178
        },
        "id": "J0g1SJKkpH5S",
        "outputId": "51157f1a-3f3b-4f23-ba4e-cbecf936270e"
      },
      "execution_count": null,
      "outputs": [
        {
          "output_type": "execute_result",
          "data": {
            "text/plain": [
              "Target\n",
              "0    4151590\n",
              "1    1805252\n",
              "Name: count, dtype: int64"
            ],
            "text/html": [
              "<div>\n",
              "<style scoped>\n",
              "    .dataframe tbody tr th:only-of-type {\n",
              "        vertical-align: middle;\n",
              "    }\n",
              "\n",
              "    .dataframe tbody tr th {\n",
              "        vertical-align: top;\n",
              "    }\n",
              "\n",
              "    .dataframe thead th {\n",
              "        text-align: right;\n",
              "    }\n",
              "</style>\n",
              "<table border=\"1\" class=\"dataframe\">\n",
              "  <thead>\n",
              "    <tr style=\"text-align: right;\">\n",
              "      <th></th>\n",
              "      <th>count</th>\n",
              "    </tr>\n",
              "    <tr>\n",
              "      <th>Target</th>\n",
              "      <th></th>\n",
              "    </tr>\n",
              "  </thead>\n",
              "  <tbody>\n",
              "    <tr>\n",
              "      <th>0</th>\n",
              "      <td>4151590</td>\n",
              "    </tr>\n",
              "    <tr>\n",
              "      <th>1</th>\n",
              "      <td>1805252</td>\n",
              "    </tr>\n",
              "  </tbody>\n",
              "</table>\n",
              "</div><br><label><b>dtype:</b> int64</label>"
            ]
          },
          "metadata": {},
          "execution_count": 7
        }
      ]
    },
    {
      "cell_type": "code",
      "source": [
        "len(df)"
      ],
      "metadata": {
        "colab": {
          "base_uri": "https://localhost:8080/"
        },
        "id": "jvbd_aQCpZCY",
        "outputId": "6e112066-714d-4c61-c8f1-e0e6239d9181"
      },
      "execution_count": null,
      "outputs": [
        {
          "output_type": "execute_result",
          "data": {
            "text/plain": [
              "5956842"
            ]
          },
          "metadata": {},
          "execution_count": 8
        }
      ]
    },
    {
      "cell_type": "code",
      "source": [
        "# Firstly, we convert the data types to increase the computational speed as required\n",
        "for label, content in df.items():\n",
        "  if not pd.api.types.is_any_real_numeric_dtype(content):\n",
        "    print(label)\n",
        "    df[label] = content.astype('category').cat.as_ordered()\n",
        "    df[label] = df[label].cat.codes\n",
        "    print(df[label].value_counts())"
      ],
      "metadata": {
        "colab": {
          "base_uri": "https://localhost:8080/"
        },
        "id": "BmXMqUghplH5",
        "outputId": "80cae604-574e-48f8-854d-0a362474d188"
      },
      "execution_count": null,
      "outputs": [
        {
          "output_type": "stream",
          "name": "stdout",
          "text": [
            "Color\n",
            "Color\n",
            " 0    1787911\n",
            " 3    1786234\n",
            " 1    1079772\n",
            " 2     758138\n",
            " 4     539048\n",
            "-1       5739\n",
            "Name: count, dtype: int64\n",
            "Source\n",
            "Source\n",
            " 6    734502\n",
            " 1    734389\n",
            " 7    734315\n",
            " 0    733778\n",
            " 3    733298\n",
            " 4    732980\n",
            " 5    732700\n",
            " 2    732618\n",
            "-1     88262\n",
            "Name: count, dtype: int64\n",
            "Month\n",
            "Month\n",
            " 7     498700\n",
            " 5     498132\n",
            " 8     498043\n",
            " 4     497875\n",
            " 2     497349\n",
            " 1     497072\n",
            " 10    496061\n",
            " 0     482261\n",
            " 6     482016\n",
            " 11    481456\n",
            " 9     481020\n",
            " 3     451189\n",
            "-1      95668\n",
            "Name: count, dtype: int64\n"
          ]
        }
      ]
    },
    {
      "cell_type": "code",
      "source": [
        "def optimise_df(Df):\n",
        "  for col in Df.columns:\n",
        "    col_type = Df[col].dtype\n",
        "\n",
        "    if col_type == 'float64' or col_type == 'float32':\n",
        "      Df[col] = pd.to_numeric(Df[col], downcast = 'float')\n",
        "\n",
        "    elif col_type == \"int64\" or col_type == \"int32\":\n",
        "      Df[col] = pd.to_numeric(Df[col], downcast=\"integer\")\n",
        "\n",
        "  return Df"
      ],
      "metadata": {
        "id": "_wOZm__sqc22"
      },
      "execution_count": null,
      "outputs": []
    },
    {
      "cell_type": "code",
      "source": [
        "df= optimise_df(df)"
      ],
      "metadata": {
        "id": "fqu91IFXsMEY"
      },
      "execution_count": null,
      "outputs": []
    },
    {
      "cell_type": "code",
      "source": [
        "df.info()"
      ],
      "metadata": {
        "colab": {
          "base_uri": "https://localhost:8080/"
        },
        "id": "bI6Uxz3KsOyO",
        "outputId": "bb808673-aabb-406c-e600-6a9caf352c49"
      },
      "execution_count": null,
      "outputs": [
        {
          "output_type": "stream",
          "name": "stdout",
          "text": [
            "<class 'pandas.core.frame.DataFrame'>\n",
            "Index: 5956842 entries, 0 to 5956841\n",
            "Data columns (total 23 columns):\n",
            " #   Column                  Dtype  \n",
            "---  ------                  -----  \n",
            " 0   pH                      float32\n",
            " 1   Iron                    float32\n",
            " 2   Nitrate                 float32\n",
            " 3   Chloride                float32\n",
            " 4   Lead                    float32\n",
            " 5   Zinc                    float32\n",
            " 6   Color                   int8   \n",
            " 7   Turbidity               float32\n",
            " 8   Fluoride                float32\n",
            " 9   Copper                  float32\n",
            " 10  Odor                    float32\n",
            " 11  Sulfate                 float32\n",
            " 12  Conductivity            float32\n",
            " 13  Chlorine                float32\n",
            " 14  Manganese               float32\n",
            " 15  Total Dissolved Solids  float32\n",
            " 16  Source                  int8   \n",
            " 17  Water Temperature       float32\n",
            " 18  Air Temperature         float32\n",
            " 19  Month                   int8   \n",
            " 20  Day                     float32\n",
            " 21  Time of Day             float32\n",
            " 22  Target                  int8   \n",
            "dtypes: float32(19), int8(4)\n",
            "memory usage: 499.9 MB\n"
          ]
        }
      ]
    },
    {
      "cell_type": "code",
      "source": [
        "df.isnull().sum()"
      ],
      "metadata": {
        "colab": {
          "base_uri": "https://localhost:8080/",
          "height": 805
        },
        "id": "--4ffrrksSKu",
        "outputId": "f523e968-6f75-4ec6-c377-aa632f567002"
      },
      "execution_count": null,
      "outputs": [
        {
          "output_type": "execute_result",
          "data": {
            "text/plain": [
              "pH                        116054\n",
              "Iron                       39753\n",
              "Nitrate                   105725\n",
              "Chloride                  175531\n",
              "Lead                       26909\n",
              "Zinc                      156126\n",
              "Color                          0\n",
              "Turbidity                  49815\n",
              "Fluoride                  189156\n",
              "Copper                    199402\n",
              "Odor                      178891\n",
              "Sulfate                   197418\n",
              "Conductivity              163861\n",
              "Chlorine                   57825\n",
              "Manganese                 109583\n",
              "Total Dissolved Solids      1670\n",
              "Source                         0\n",
              "Water Temperature         168233\n",
              "Air Temperature            29728\n",
              "Month                          0\n",
              "Day                        99603\n",
              "Time of Day               114519\n",
              "Target                         0\n",
              "dtype: int64"
            ],
            "text/html": [
              "<div>\n",
              "<style scoped>\n",
              "    .dataframe tbody tr th:only-of-type {\n",
              "        vertical-align: middle;\n",
              "    }\n",
              "\n",
              "    .dataframe tbody tr th {\n",
              "        vertical-align: top;\n",
              "    }\n",
              "\n",
              "    .dataframe thead th {\n",
              "        text-align: right;\n",
              "    }\n",
              "</style>\n",
              "<table border=\"1\" class=\"dataframe\">\n",
              "  <thead>\n",
              "    <tr style=\"text-align: right;\">\n",
              "      <th></th>\n",
              "      <th>0</th>\n",
              "    </tr>\n",
              "  </thead>\n",
              "  <tbody>\n",
              "    <tr>\n",
              "      <th>pH</th>\n",
              "      <td>116054</td>\n",
              "    </tr>\n",
              "    <tr>\n",
              "      <th>Iron</th>\n",
              "      <td>39753</td>\n",
              "    </tr>\n",
              "    <tr>\n",
              "      <th>Nitrate</th>\n",
              "      <td>105725</td>\n",
              "    </tr>\n",
              "    <tr>\n",
              "      <th>Chloride</th>\n",
              "      <td>175531</td>\n",
              "    </tr>\n",
              "    <tr>\n",
              "      <th>Lead</th>\n",
              "      <td>26909</td>\n",
              "    </tr>\n",
              "    <tr>\n",
              "      <th>Zinc</th>\n",
              "      <td>156126</td>\n",
              "    </tr>\n",
              "    <tr>\n",
              "      <th>Color</th>\n",
              "      <td>0</td>\n",
              "    </tr>\n",
              "    <tr>\n",
              "      <th>Turbidity</th>\n",
              "      <td>49815</td>\n",
              "    </tr>\n",
              "    <tr>\n",
              "      <th>Fluoride</th>\n",
              "      <td>189156</td>\n",
              "    </tr>\n",
              "    <tr>\n",
              "      <th>Copper</th>\n",
              "      <td>199402</td>\n",
              "    </tr>\n",
              "    <tr>\n",
              "      <th>Odor</th>\n",
              "      <td>178891</td>\n",
              "    </tr>\n",
              "    <tr>\n",
              "      <th>Sulfate</th>\n",
              "      <td>197418</td>\n",
              "    </tr>\n",
              "    <tr>\n",
              "      <th>Conductivity</th>\n",
              "      <td>163861</td>\n",
              "    </tr>\n",
              "    <tr>\n",
              "      <th>Chlorine</th>\n",
              "      <td>57825</td>\n",
              "    </tr>\n",
              "    <tr>\n",
              "      <th>Manganese</th>\n",
              "      <td>109583</td>\n",
              "    </tr>\n",
              "    <tr>\n",
              "      <th>Total Dissolved Solids</th>\n",
              "      <td>1670</td>\n",
              "    </tr>\n",
              "    <tr>\n",
              "      <th>Source</th>\n",
              "      <td>0</td>\n",
              "    </tr>\n",
              "    <tr>\n",
              "      <th>Water Temperature</th>\n",
              "      <td>168233</td>\n",
              "    </tr>\n",
              "    <tr>\n",
              "      <th>Air Temperature</th>\n",
              "      <td>29728</td>\n",
              "    </tr>\n",
              "    <tr>\n",
              "      <th>Month</th>\n",
              "      <td>0</td>\n",
              "    </tr>\n",
              "    <tr>\n",
              "      <th>Day</th>\n",
              "      <td>99603</td>\n",
              "    </tr>\n",
              "    <tr>\n",
              "      <th>Time of Day</th>\n",
              "      <td>114519</td>\n",
              "    </tr>\n",
              "    <tr>\n",
              "      <th>Target</th>\n",
              "      <td>0</td>\n",
              "    </tr>\n",
              "  </tbody>\n",
              "</table>\n",
              "</div><br><label><b>dtype:</b> int64</label>"
            ]
          },
          "metadata": {},
          "execution_count": 14
        }
      ]
    },
    {
      "cell_type": "code",
      "source": [
        "df = df.dropna()"
      ],
      "metadata": {
        "id": "ktWz9P8NsssD"
      },
      "execution_count": null,
      "outputs": []
    },
    {
      "cell_type": "code",
      "source": [
        "df.isnull().sum()"
      ],
      "metadata": {
        "colab": {
          "base_uri": "https://localhost:8080/",
          "height": 805
        },
        "id": "OIc2sS9nsz8b",
        "outputId": "aae2f007-0649-40e3-8296-c4c20d5b5d04"
      },
      "execution_count": null,
      "outputs": [
        {
          "output_type": "execute_result",
          "data": {
            "text/plain": [
              "pH                        0\n",
              "Iron                      0\n",
              "Nitrate                   0\n",
              "Chloride                  0\n",
              "Lead                      0\n",
              "Zinc                      0\n",
              "Color                     0\n",
              "Turbidity                 0\n",
              "Fluoride                  0\n",
              "Copper                    0\n",
              "Odor                      0\n",
              "Sulfate                   0\n",
              "Conductivity              0\n",
              "Chlorine                  0\n",
              "Manganese                 0\n",
              "Total Dissolved Solids    0\n",
              "Source                    0\n",
              "Water Temperature         0\n",
              "Air Temperature           0\n",
              "Month                     0\n",
              "Day                       0\n",
              "Time of Day               0\n",
              "Target                    0\n",
              "dtype: int64"
            ],
            "text/html": [
              "<div>\n",
              "<style scoped>\n",
              "    .dataframe tbody tr th:only-of-type {\n",
              "        vertical-align: middle;\n",
              "    }\n",
              "\n",
              "    .dataframe tbody tr th {\n",
              "        vertical-align: top;\n",
              "    }\n",
              "\n",
              "    .dataframe thead th {\n",
              "        text-align: right;\n",
              "    }\n",
              "</style>\n",
              "<table border=\"1\" class=\"dataframe\">\n",
              "  <thead>\n",
              "    <tr style=\"text-align: right;\">\n",
              "      <th></th>\n",
              "      <th>0</th>\n",
              "    </tr>\n",
              "  </thead>\n",
              "  <tbody>\n",
              "    <tr>\n",
              "      <th>pH</th>\n",
              "      <td>0</td>\n",
              "    </tr>\n",
              "    <tr>\n",
              "      <th>Iron</th>\n",
              "      <td>0</td>\n",
              "    </tr>\n",
              "    <tr>\n",
              "      <th>Nitrate</th>\n",
              "      <td>0</td>\n",
              "    </tr>\n",
              "    <tr>\n",
              "      <th>Chloride</th>\n",
              "      <td>0</td>\n",
              "    </tr>\n",
              "    <tr>\n",
              "      <th>Lead</th>\n",
              "      <td>0</td>\n",
              "    </tr>\n",
              "    <tr>\n",
              "      <th>Zinc</th>\n",
              "      <td>0</td>\n",
              "    </tr>\n",
              "    <tr>\n",
              "      <th>Color</th>\n",
              "      <td>0</td>\n",
              "    </tr>\n",
              "    <tr>\n",
              "      <th>Turbidity</th>\n",
              "      <td>0</td>\n",
              "    </tr>\n",
              "    <tr>\n",
              "      <th>Fluoride</th>\n",
              "      <td>0</td>\n",
              "    </tr>\n",
              "    <tr>\n",
              "      <th>Copper</th>\n",
              "      <td>0</td>\n",
              "    </tr>\n",
              "    <tr>\n",
              "      <th>Odor</th>\n",
              "      <td>0</td>\n",
              "    </tr>\n",
              "    <tr>\n",
              "      <th>Sulfate</th>\n",
              "      <td>0</td>\n",
              "    </tr>\n",
              "    <tr>\n",
              "      <th>Conductivity</th>\n",
              "      <td>0</td>\n",
              "    </tr>\n",
              "    <tr>\n",
              "      <th>Chlorine</th>\n",
              "      <td>0</td>\n",
              "    </tr>\n",
              "    <tr>\n",
              "      <th>Manganese</th>\n",
              "      <td>0</td>\n",
              "    </tr>\n",
              "    <tr>\n",
              "      <th>Total Dissolved Solids</th>\n",
              "      <td>0</td>\n",
              "    </tr>\n",
              "    <tr>\n",
              "      <th>Source</th>\n",
              "      <td>0</td>\n",
              "    </tr>\n",
              "    <tr>\n",
              "      <th>Water Temperature</th>\n",
              "      <td>0</td>\n",
              "    </tr>\n",
              "    <tr>\n",
              "      <th>Air Temperature</th>\n",
              "      <td>0</td>\n",
              "    </tr>\n",
              "    <tr>\n",
              "      <th>Month</th>\n",
              "      <td>0</td>\n",
              "    </tr>\n",
              "    <tr>\n",
              "      <th>Day</th>\n",
              "      <td>0</td>\n",
              "    </tr>\n",
              "    <tr>\n",
              "      <th>Time of Day</th>\n",
              "      <td>0</td>\n",
              "    </tr>\n",
              "    <tr>\n",
              "      <th>Target</th>\n",
              "      <td>0</td>\n",
              "    </tr>\n",
              "  </tbody>\n",
              "</table>\n",
              "</div><br><label><b>dtype:</b> int64</label>"
            ]
          },
          "metadata": {},
          "execution_count": 17
        }
      ]
    },
    {
      "cell_type": "code",
      "source": [
        "df.duplicated().sum()"
      ],
      "metadata": {
        "colab": {
          "base_uri": "https://localhost:8080/"
        },
        "id": "Qjnga45ms4rD",
        "outputId": "33ce926d-c996-47ba-86cd-323ebf301e52"
      },
      "execution_count": null,
      "outputs": [
        {
          "output_type": "execute_result",
          "data": {
            "text/plain": [
              "110042"
            ]
          },
          "metadata": {},
          "execution_count": 18
        }
      ]
    },
    {
      "cell_type": "code",
      "source": [
        "df = df.drop_duplicates()"
      ],
      "metadata": {
        "id": "gYbAzjums9o9"
      },
      "execution_count": null,
      "outputs": []
    },
    {
      "cell_type": "code",
      "source": [
        "len(df)"
      ],
      "metadata": {
        "colab": {
          "base_uri": "https://localhost:8080/"
        },
        "id": "PANFkbritJe2",
        "outputId": "1d336c66-dbf8-4f74-a99d-8f48cb5aff39"
      },
      "execution_count": null,
      "outputs": [
        {
          "output_type": "execute_result",
          "data": {
            "text/plain": [
              "4001471"
            ]
          },
          "metadata": {},
          "execution_count": 20
        }
      ]
    },
    {
      "cell_type": "code",
      "source": [
        "def robust_scaling(DF):\n",
        "  medians = DF.median()\n",
        "  q1 = DF.quantile(0.25)\n",
        "  q3 = DF.quantile(0.75)\n",
        "  iqr = q3 -q1\n",
        "\n",
        "  df_scaled = (DF - medians)/ iqr\n",
        "\n",
        "  return df_scaled, medians,iqr"
      ],
      "metadata": {
        "id": "yETJYfs6tSwF"
      },
      "execution_count": null,
      "outputs": []
    },
    {
      "cell_type": "code",
      "source": [
        "df, Median, IQR = robust_scaling(df)"
      ],
      "metadata": {
        "id": "sLBXCa-CwYTP"
      },
      "execution_count": null,
      "outputs": []
    },
    {
      "cell_type": "code",
      "source": [
        "# In this step, we will take care of the extreme outliers\n",
        "df = df.clip(lower = df.quantile(0.05), upper = df.quantile(0.95), axis = 1)"
      ],
      "metadata": {
        "id": "fASH1lNWwjan"
      },
      "execution_count": null,
      "outputs": []
    },
    {
      "cell_type": "code",
      "source": [
        "df.info()"
      ],
      "metadata": {
        "colab": {
          "base_uri": "https://localhost:8080/"
        },
        "id": "Ab9Zk968zN3g",
        "outputId": "f2a62b69-3236-4f9e-b553-7c58f3725ce8"
      },
      "execution_count": null,
      "outputs": [
        {
          "output_type": "stream",
          "name": "stdout",
          "text": [
            "<class 'pandas.core.frame.DataFrame'>\n",
            "Index: 4001471 entries, 1 to 5956840\n",
            "Data columns (total 23 columns):\n",
            " #   Column                  Dtype  \n",
            "---  ------                  -----  \n",
            " 0   pH                      float64\n",
            " 1   Iron                    float64\n",
            " 2   Nitrate                 float64\n",
            " 3   Chloride                float64\n",
            " 4   Lead                    float64\n",
            " 5   Zinc                    float64\n",
            " 6   Color                   float64\n",
            " 7   Turbidity               float64\n",
            " 8   Fluoride                float64\n",
            " 9   Copper                  float64\n",
            " 10  Odor                    float64\n",
            " 11  Sulfate                 float64\n",
            " 12  Conductivity            float64\n",
            " 13  Chlorine                float64\n",
            " 14  Manganese               float64\n",
            " 15  Total Dissolved Solids  float64\n",
            " 16  Source                  float64\n",
            " 17  Water Temperature       float64\n",
            " 18  Air Temperature         float64\n",
            " 19  Month                   float64\n",
            " 20  Day                     float64\n",
            " 21  Time of Day             float64\n",
            " 22  Target                  float64\n",
            "dtypes: float64(23)\n",
            "memory usage: 732.7 MB\n"
          ]
        }
      ]
    },
    {
      "cell_type": "code",
      "source": [
        "df= optimise_df(df)"
      ],
      "metadata": {
        "id": "eeblFbNQ1LhO"
      },
      "execution_count": null,
      "outputs": []
    },
    {
      "cell_type": "code",
      "source": [
        "df.info()"
      ],
      "metadata": {
        "colab": {
          "base_uri": "https://localhost:8080/"
        },
        "id": "A9qIledL1MnL",
        "outputId": "57a7cd1e-92a9-49f8-a046-2573fd73e44e"
      },
      "execution_count": null,
      "outputs": [
        {
          "output_type": "stream",
          "name": "stdout",
          "text": [
            "<class 'pandas.core.frame.DataFrame'>\n",
            "Index: 4001471 entries, 1 to 5956840\n",
            "Data columns (total 23 columns):\n",
            " #   Column                  Dtype  \n",
            "---  ------                  -----  \n",
            " 0   pH                      float32\n",
            " 1   Iron                    float32\n",
            " 2   Nitrate                 float32\n",
            " 3   Chloride                float32\n",
            " 4   Lead                    float64\n",
            " 5   Zinc                    float32\n",
            " 6   Color                   float32\n",
            " 7   Turbidity               float32\n",
            " 8   Fluoride                float32\n",
            " 9   Copper                  float32\n",
            " 10  Odor                    float32\n",
            " 11  Sulfate                 float32\n",
            " 12  Conductivity            float32\n",
            " 13  Chlorine                float32\n",
            " 14  Manganese               float32\n",
            " 15  Total Dissolved Solids  float32\n",
            " 16  Source                  float32\n",
            " 17  Water Temperature       float32\n",
            " 18  Air Temperature         float32\n",
            " 19  Month                   float32\n",
            " 20  Day                     float32\n",
            " 21  Time of Day             float32\n",
            " 22  Target                  float32\n",
            "dtypes: float32(22), float64(1)\n",
            "memory usage: 396.9 MB\n"
          ]
        }
      ]
    },
    {
      "cell_type": "code",
      "source": [
        "df.to_csv(\"/content/drive/MyDrive/Major Project/dataset_processed.csv\")"
      ],
      "metadata": {
        "id": "0U_xxCdwxrKZ"
      },
      "execution_count": null,
      "outputs": []
    },
    {
      "cell_type": "code",
      "source": [],
      "metadata": {
        "id": "T4FyxBgzyhMr"
      },
      "execution_count": null,
      "outputs": []
    }
  ]
}