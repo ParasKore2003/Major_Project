{
  "cells": [
    {
      "cell_type": "code",
      "execution_count": null,
      "metadata": {
        "colab": {
          "base_uri": "https://localhost:8080/"
        },
        "id": "Z3dknE91v-yS",
        "outputId": "e2732508-98bb-44d0-e909-ecb645ae5025"
      },
      "outputs": [
        {
          "output_type": "stream",
          "name": "stdout",
          "text": [
            "Mounted at drive\n"
          ]
        }
      ],
      "source": [
        "from google.colab import drive\n",
        "drive.mount('drive')"
      ]
    },
    {
      "cell_type": "code",
      "execution_count": null,
      "metadata": {
        "id": "RKxXjAicwUOA"
      },
      "outputs": [],
      "source": [
        "import pandas as pd\n",
        "import numpy as np\n",
        "import matplotlib.pyplot as plt\n",
        "import seaborn as sns\n",
        "from tqdm import tqdm\n",
        "import joblib\n",
        "import warnings\n",
        "warnings.filterwarnings('ignore')"
      ]
    },
    {
      "cell_type": "code",
      "execution_count": null,
      "metadata": {
        "colab": {
          "base_uri": "https://localhost:8080/"
        },
        "id": "FOQ0m2iDwy5X",
        "outputId": "90f9f554-56d0-46ca-d744-7fb2ac752a52"
      },
      "outputs": [
        {
          "output_type": "stream",
          "name": "stdout",
          "text": [
            "CPU times: user 19.4 s, sys: 2.01 s, total: 21.4 s\n",
            "Wall time: 27 s\n"
          ]
        }
      ],
      "source": [
        "%%time\n",
        "df = pd.read_csv(\"/content/drive/MyDrive/Major Project/dataset_processed.csv\")"
      ]
    },
    {
      "cell_type": "code",
      "execution_count": null,
      "metadata": {
        "id": "gzvWROh8xPz3"
      },
      "outputs": [],
      "source": [
        "X = df.drop('Target', axis = 1)\n",
        "y = df.Target"
      ]
    },
    {
      "cell_type": "code",
      "execution_count": null,
      "metadata": {
        "id": "OYTEiPxWw-YH"
      },
      "outputs": [],
      "source": [
        "from sklearn.ensemble import RandomForestClassifier\n",
        "from sklearn.model_selection import train_test_split\n",
        "\n",
        "\n",
        "X_sample, X_test, y_sample, y_test = train_test_split(X,\n",
        "                                      y,\n",
        "                                      train_size = 0.02,\n",
        "                                      stratify = y,\n",
        "                                      random_state = 42)\n",
        "\n",
        "# Create the Random Forest model\n",
        "rf_model = RandomForestClassifier(n_estimators = 100,\n",
        "                                  class_weight = 'balanced',\n",
        "                                  random_state = 42)"
      ]
    },
    {
      "cell_type": "code",
      "execution_count": null,
      "metadata": {
        "colab": {
          "base_uri": "https://localhost:8080/"
        },
        "id": "OqdF9DNMi2HF",
        "outputId": "bb31a140-0ab9-44dd-9a17-521949394068"
      },
      "outputs": [
        {
          "output_type": "execute_result",
          "data": {
            "text/plain": [
              "80029"
            ]
          },
          "metadata": {},
          "execution_count": 7
        }
      ],
      "source": [
        "len(X_sample)"
      ]
    },
    {
      "cell_type": "code",
      "execution_count": null,
      "metadata": {
        "colab": {
          "base_uri": "https://localhost:8080/"
        },
        "id": "9wQhiFD9h_DP",
        "outputId": "eff9b22a-ab25-47af-9378-21751ad5a2bf"
      },
      "outputs": [
        {
          "output_type": "stream",
          "name": "stderr",
          "text": [
            "Training Random Forest: 100%|██████████| 100/100 [2:07:09<00:00, 76.29s/it]"
          ]
        },
        {
          "output_type": "stream",
          "name": "stdout",
          "text": [
            "Top 10 important Features:\n",
            "      feature  importance\n",
            "15  Manganese    0.119341\n",
            "1          pH    0.104932\n",
            "4    Chloride    0.088286\n",
            "8   Turbidity    0.086076\n",
            "10     Copper    0.074915\n",
            "11       Odor    0.070871\n",
            "9    Fluoride    0.053588\n",
            "3     Nitrate    0.049889\n",
            "14   Chlorine    0.049729\n",
            "2        Iron    0.048581\n"
          ]
        },
        {
          "output_type": "stream",
          "name": "stderr",
          "text": [
            "\n"
          ]
        }
      ],
      "source": [
        "# Wrapping the fitting process with tqdm to track progress\n",
        "with tqdm(total=100, desc=\"Training Random Forest\") as pbar:\n",
        "    for _ in range(100):  # We simulate the \"progress\" bar to represent the fit process\n",
        "        rf_model.fit(X_sample, y_sample)\n",
        "        pbar.update(1)  # Update progress bar with each fit iteration (simulated here)\n",
        "\n",
        "# After training, extract feature importances\n",
        "feature_importance_df = pd.DataFrame({\n",
        "    'feature': X.columns,\n",
        "    'importance': rf_model.feature_importances_\n",
        "}).sort_values(by='importance', ascending=False)\n",
        "\n",
        "# Display top 10 important features\n",
        "print(\"Top 10 important Features:\")\n",
        "print(feature_importance_df.head(10))"
      ]
    },
    {
      "cell_type": "code",
      "execution_count": null,
      "metadata": {
        "id": "_5rBZK-vi_Ky",
        "colab": {
          "base_uri": "https://localhost:8080/",
          "height": 770
        },
        "outputId": "9dd55e7b-a8ff-463f-8949-993aa369e150"
      },
      "outputs": [
        {
          "output_type": "execute_result",
          "data": {
            "text/plain": [
              "                   feature  importance\n",
              "15               Manganese    0.119341\n",
              "1                       pH    0.104932\n",
              "4                 Chloride    0.088286\n",
              "8                Turbidity    0.086076\n",
              "10                  Copper    0.074915\n",
              "11                    Odor    0.070871\n",
              "9                 Fluoride    0.053588\n",
              "3                  Nitrate    0.049889\n",
              "14                Chlorine    0.049729\n",
              "2                     Iron    0.048581\n",
              "0                    Index    0.042230\n",
              "16  Total Dissolved Solids    0.038049\n",
              "7                    Color    0.035091\n",
              "12                 Sulfate    0.032835\n",
              "6                     Zinc    0.016170\n",
              "13            Conductivity    0.015083\n",
              "18       Water Temperature    0.014824\n",
              "19         Air Temperature    0.014764\n",
              "21                     Day    0.011281\n",
              "22             Time of Day    0.010567\n",
              "20                   Month    0.009229\n",
              "17                  Source    0.007672\n",
              "5                     Lead    0.005996"
            ],
            "text/html": [
              "\n",
              "  <div id=\"df-7ade820c-8af5-41d9-899e-9f1e6fed9ae6\" class=\"colab-df-container\">\n",
              "    <div>\n",
              "<style scoped>\n",
              "    .dataframe tbody tr th:only-of-type {\n",
              "        vertical-align: middle;\n",
              "    }\n",
              "\n",
              "    .dataframe tbody tr th {\n",
              "        vertical-align: top;\n",
              "    }\n",
              "\n",
              "    .dataframe thead th {\n",
              "        text-align: right;\n",
              "    }\n",
              "</style>\n",
              "<table border=\"1\" class=\"dataframe\">\n",
              "  <thead>\n",
              "    <tr style=\"text-align: right;\">\n",
              "      <th></th>\n",
              "      <th>feature</th>\n",
              "      <th>importance</th>\n",
              "    </tr>\n",
              "  </thead>\n",
              "  <tbody>\n",
              "    <tr>\n",
              "      <th>15</th>\n",
              "      <td>Manganese</td>\n",
              "      <td>0.119341</td>\n",
              "    </tr>\n",
              "    <tr>\n",
              "      <th>1</th>\n",
              "      <td>pH</td>\n",
              "      <td>0.104932</td>\n",
              "    </tr>\n",
              "    <tr>\n",
              "      <th>4</th>\n",
              "      <td>Chloride</td>\n",
              "      <td>0.088286</td>\n",
              "    </tr>\n",
              "    <tr>\n",
              "      <th>8</th>\n",
              "      <td>Turbidity</td>\n",
              "      <td>0.086076</td>\n",
              "    </tr>\n",
              "    <tr>\n",
              "      <th>10</th>\n",
              "      <td>Copper</td>\n",
              "      <td>0.074915</td>\n",
              "    </tr>\n",
              "    <tr>\n",
              "      <th>11</th>\n",
              "      <td>Odor</td>\n",
              "      <td>0.070871</td>\n",
              "    </tr>\n",
              "    <tr>\n",
              "      <th>9</th>\n",
              "      <td>Fluoride</td>\n",
              "      <td>0.053588</td>\n",
              "    </tr>\n",
              "    <tr>\n",
              "      <th>3</th>\n",
              "      <td>Nitrate</td>\n",
              "      <td>0.049889</td>\n",
              "    </tr>\n",
              "    <tr>\n",
              "      <th>14</th>\n",
              "      <td>Chlorine</td>\n",
              "      <td>0.049729</td>\n",
              "    </tr>\n",
              "    <tr>\n",
              "      <th>2</th>\n",
              "      <td>Iron</td>\n",
              "      <td>0.048581</td>\n",
              "    </tr>\n",
              "    <tr>\n",
              "      <th>0</th>\n",
              "      <td>Index</td>\n",
              "      <td>0.042230</td>\n",
              "    </tr>\n",
              "    <tr>\n",
              "      <th>16</th>\n",
              "      <td>Total Dissolved Solids</td>\n",
              "      <td>0.038049</td>\n",
              "    </tr>\n",
              "    <tr>\n",
              "      <th>7</th>\n",
              "      <td>Color</td>\n",
              "      <td>0.035091</td>\n",
              "    </tr>\n",
              "    <tr>\n",
              "      <th>12</th>\n",
              "      <td>Sulfate</td>\n",
              "      <td>0.032835</td>\n",
              "    </tr>\n",
              "    <tr>\n",
              "      <th>6</th>\n",
              "      <td>Zinc</td>\n",
              "      <td>0.016170</td>\n",
              "    </tr>\n",
              "    <tr>\n",
              "      <th>13</th>\n",
              "      <td>Conductivity</td>\n",
              "      <td>0.015083</td>\n",
              "    </tr>\n",
              "    <tr>\n",
              "      <th>18</th>\n",
              "      <td>Water Temperature</td>\n",
              "      <td>0.014824</td>\n",
              "    </tr>\n",
              "    <tr>\n",
              "      <th>19</th>\n",
              "      <td>Air Temperature</td>\n",
              "      <td>0.014764</td>\n",
              "    </tr>\n",
              "    <tr>\n",
              "      <th>21</th>\n",
              "      <td>Day</td>\n",
              "      <td>0.011281</td>\n",
              "    </tr>\n",
              "    <tr>\n",
              "      <th>22</th>\n",
              "      <td>Time of Day</td>\n",
              "      <td>0.010567</td>\n",
              "    </tr>\n",
              "    <tr>\n",
              "      <th>20</th>\n",
              "      <td>Month</td>\n",
              "      <td>0.009229</td>\n",
              "    </tr>\n",
              "    <tr>\n",
              "      <th>17</th>\n",
              "      <td>Source</td>\n",
              "      <td>0.007672</td>\n",
              "    </tr>\n",
              "    <tr>\n",
              "      <th>5</th>\n",
              "      <td>Lead</td>\n",
              "      <td>0.005996</td>\n",
              "    </tr>\n",
              "  </tbody>\n",
              "</table>\n",
              "</div>\n",
              "    <div class=\"colab-df-buttons\">\n",
              "\n",
              "  <div class=\"colab-df-container\">\n",
              "    <button class=\"colab-df-convert\" onclick=\"convertToInteractive('df-7ade820c-8af5-41d9-899e-9f1e6fed9ae6')\"\n",
              "            title=\"Convert this dataframe to an interactive table.\"\n",
              "            style=\"display:none;\">\n",
              "\n",
              "  <svg xmlns=\"http://www.w3.org/2000/svg\" height=\"24px\" viewBox=\"0 -960 960 960\">\n",
              "    <path d=\"M120-120v-720h720v720H120Zm60-500h600v-160H180v160Zm220 220h160v-160H400v160Zm0 220h160v-160H400v160ZM180-400h160v-160H180v160Zm440 0h160v-160H620v160ZM180-180h160v-160H180v160Zm440 0h160v-160H620v160Z\"/>\n",
              "  </svg>\n",
              "    </button>\n",
              "\n",
              "  <style>\n",
              "    .colab-df-container {\n",
              "      display:flex;\n",
              "      gap: 12px;\n",
              "    }\n",
              "\n",
              "    .colab-df-convert {\n",
              "      background-color: #E8F0FE;\n",
              "      border: none;\n",
              "      border-radius: 50%;\n",
              "      cursor: pointer;\n",
              "      display: none;\n",
              "      fill: #1967D2;\n",
              "      height: 32px;\n",
              "      padding: 0 0 0 0;\n",
              "      width: 32px;\n",
              "    }\n",
              "\n",
              "    .colab-df-convert:hover {\n",
              "      background-color: #E2EBFA;\n",
              "      box-shadow: 0px 1px 2px rgba(60, 64, 67, 0.3), 0px 1px 3px 1px rgba(60, 64, 67, 0.15);\n",
              "      fill: #174EA6;\n",
              "    }\n",
              "\n",
              "    .colab-df-buttons div {\n",
              "      margin-bottom: 4px;\n",
              "    }\n",
              "\n",
              "    [theme=dark] .colab-df-convert {\n",
              "      background-color: #3B4455;\n",
              "      fill: #D2E3FC;\n",
              "    }\n",
              "\n",
              "    [theme=dark] .colab-df-convert:hover {\n",
              "      background-color: #434B5C;\n",
              "      box-shadow: 0px 1px 3px 1px rgba(0, 0, 0, 0.15);\n",
              "      filter: drop-shadow(0px 1px 2px rgba(0, 0, 0, 0.3));\n",
              "      fill: #FFFFFF;\n",
              "    }\n",
              "  </style>\n",
              "\n",
              "    <script>\n",
              "      const buttonEl =\n",
              "        document.querySelector('#df-7ade820c-8af5-41d9-899e-9f1e6fed9ae6 button.colab-df-convert');\n",
              "      buttonEl.style.display =\n",
              "        google.colab.kernel.accessAllowed ? 'block' : 'none';\n",
              "\n",
              "      async function convertToInteractive(key) {\n",
              "        const element = document.querySelector('#df-7ade820c-8af5-41d9-899e-9f1e6fed9ae6');\n",
              "        const dataTable =\n",
              "          await google.colab.kernel.invokeFunction('convertToInteractive',\n",
              "                                                    [key], {});\n",
              "        if (!dataTable) return;\n",
              "\n",
              "        const docLinkHtml = 'Like what you see? Visit the ' +\n",
              "          '<a target=\"_blank\" href=https://colab.research.google.com/notebooks/data_table.ipynb>data table notebook</a>'\n",
              "          + ' to learn more about interactive tables.';\n",
              "        element.innerHTML = '';\n",
              "        dataTable['output_type'] = 'display_data';\n",
              "        await google.colab.output.renderOutput(dataTable, element);\n",
              "        const docLink = document.createElement('div');\n",
              "        docLink.innerHTML = docLinkHtml;\n",
              "        element.appendChild(docLink);\n",
              "      }\n",
              "    </script>\n",
              "  </div>\n",
              "\n",
              "\n",
              "<div id=\"df-e5739202-3cd9-4a0a-9cc3-ffd307e4d6cd\">\n",
              "  <button class=\"colab-df-quickchart\" onclick=\"quickchart('df-e5739202-3cd9-4a0a-9cc3-ffd307e4d6cd')\"\n",
              "            title=\"Suggest charts\"\n",
              "            style=\"display:none;\">\n",
              "\n",
              "<svg xmlns=\"http://www.w3.org/2000/svg\" height=\"24px\"viewBox=\"0 0 24 24\"\n",
              "     width=\"24px\">\n",
              "    <g>\n",
              "        <path d=\"M19 3H5c-1.1 0-2 .9-2 2v14c0 1.1.9 2 2 2h14c1.1 0 2-.9 2-2V5c0-1.1-.9-2-2-2zM9 17H7v-7h2v7zm4 0h-2V7h2v10zm4 0h-2v-4h2v4z\"/>\n",
              "    </g>\n",
              "</svg>\n",
              "  </button>\n",
              "\n",
              "<style>\n",
              "  .colab-df-quickchart {\n",
              "      --bg-color: #E8F0FE;\n",
              "      --fill-color: #1967D2;\n",
              "      --hover-bg-color: #E2EBFA;\n",
              "      --hover-fill-color: #174EA6;\n",
              "      --disabled-fill-color: #AAA;\n",
              "      --disabled-bg-color: #DDD;\n",
              "  }\n",
              "\n",
              "  [theme=dark] .colab-df-quickchart {\n",
              "      --bg-color: #3B4455;\n",
              "      --fill-color: #D2E3FC;\n",
              "      --hover-bg-color: #434B5C;\n",
              "      --hover-fill-color: #FFFFFF;\n",
              "      --disabled-bg-color: #3B4455;\n",
              "      --disabled-fill-color: #666;\n",
              "  }\n",
              "\n",
              "  .colab-df-quickchart {\n",
              "    background-color: var(--bg-color);\n",
              "    border: none;\n",
              "    border-radius: 50%;\n",
              "    cursor: pointer;\n",
              "    display: none;\n",
              "    fill: var(--fill-color);\n",
              "    height: 32px;\n",
              "    padding: 0;\n",
              "    width: 32px;\n",
              "  }\n",
              "\n",
              "  .colab-df-quickchart:hover {\n",
              "    background-color: var(--hover-bg-color);\n",
              "    box-shadow: 0 1px 2px rgba(60, 64, 67, 0.3), 0 1px 3px 1px rgba(60, 64, 67, 0.15);\n",
              "    fill: var(--button-hover-fill-color);\n",
              "  }\n",
              "\n",
              "  .colab-df-quickchart-complete:disabled,\n",
              "  .colab-df-quickchart-complete:disabled:hover {\n",
              "    background-color: var(--disabled-bg-color);\n",
              "    fill: var(--disabled-fill-color);\n",
              "    box-shadow: none;\n",
              "  }\n",
              "\n",
              "  .colab-df-spinner {\n",
              "    border: 2px solid var(--fill-color);\n",
              "    border-color: transparent;\n",
              "    border-bottom-color: var(--fill-color);\n",
              "    animation:\n",
              "      spin 1s steps(1) infinite;\n",
              "  }\n",
              "\n",
              "  @keyframes spin {\n",
              "    0% {\n",
              "      border-color: transparent;\n",
              "      border-bottom-color: var(--fill-color);\n",
              "      border-left-color: var(--fill-color);\n",
              "    }\n",
              "    20% {\n",
              "      border-color: transparent;\n",
              "      border-left-color: var(--fill-color);\n",
              "      border-top-color: var(--fill-color);\n",
              "    }\n",
              "    30% {\n",
              "      border-color: transparent;\n",
              "      border-left-color: var(--fill-color);\n",
              "      border-top-color: var(--fill-color);\n",
              "      border-right-color: var(--fill-color);\n",
              "    }\n",
              "    40% {\n",
              "      border-color: transparent;\n",
              "      border-right-color: var(--fill-color);\n",
              "      border-top-color: var(--fill-color);\n",
              "    }\n",
              "    60% {\n",
              "      border-color: transparent;\n",
              "      border-right-color: var(--fill-color);\n",
              "    }\n",
              "    80% {\n",
              "      border-color: transparent;\n",
              "      border-right-color: var(--fill-color);\n",
              "      border-bottom-color: var(--fill-color);\n",
              "    }\n",
              "    90% {\n",
              "      border-color: transparent;\n",
              "      border-bottom-color: var(--fill-color);\n",
              "    }\n",
              "  }\n",
              "</style>\n",
              "\n",
              "  <script>\n",
              "    async function quickchart(key) {\n",
              "      const quickchartButtonEl =\n",
              "        document.querySelector('#' + key + ' button');\n",
              "      quickchartButtonEl.disabled = true;  // To prevent multiple clicks.\n",
              "      quickchartButtonEl.classList.add('colab-df-spinner');\n",
              "      try {\n",
              "        const charts = await google.colab.kernel.invokeFunction(\n",
              "            'suggestCharts', [key], {});\n",
              "      } catch (error) {\n",
              "        console.error('Error during call to suggestCharts:', error);\n",
              "      }\n",
              "      quickchartButtonEl.classList.remove('colab-df-spinner');\n",
              "      quickchartButtonEl.classList.add('colab-df-quickchart-complete');\n",
              "    }\n",
              "    (() => {\n",
              "      let quickchartButtonEl =\n",
              "        document.querySelector('#df-e5739202-3cd9-4a0a-9cc3-ffd307e4d6cd button');\n",
              "      quickchartButtonEl.style.display =\n",
              "        google.colab.kernel.accessAllowed ? 'block' : 'none';\n",
              "    })();\n",
              "  </script>\n",
              "</div>\n",
              "\n",
              "  <div id=\"id_b4339a5a-4ee4-4eca-be8e-6f294073ed5e\">\n",
              "    <style>\n",
              "      .colab-df-generate {\n",
              "        background-color: #E8F0FE;\n",
              "        border: none;\n",
              "        border-radius: 50%;\n",
              "        cursor: pointer;\n",
              "        display: none;\n",
              "        fill: #1967D2;\n",
              "        height: 32px;\n",
              "        padding: 0 0 0 0;\n",
              "        width: 32px;\n",
              "      }\n",
              "\n",
              "      .colab-df-generate:hover {\n",
              "        background-color: #E2EBFA;\n",
              "        box-shadow: 0px 1px 2px rgba(60, 64, 67, 0.3), 0px 1px 3px 1px rgba(60, 64, 67, 0.15);\n",
              "        fill: #174EA6;\n",
              "      }\n",
              "\n",
              "      [theme=dark] .colab-df-generate {\n",
              "        background-color: #3B4455;\n",
              "        fill: #D2E3FC;\n",
              "      }\n",
              "\n",
              "      [theme=dark] .colab-df-generate:hover {\n",
              "        background-color: #434B5C;\n",
              "        box-shadow: 0px 1px 3px 1px rgba(0, 0, 0, 0.15);\n",
              "        filter: drop-shadow(0px 1px 2px rgba(0, 0, 0, 0.3));\n",
              "        fill: #FFFFFF;\n",
              "      }\n",
              "    </style>\n",
              "    <button class=\"colab-df-generate\" onclick=\"generateWithVariable('feature_importance_df')\"\n",
              "            title=\"Generate code using this dataframe.\"\n",
              "            style=\"display:none;\">\n",
              "\n",
              "  <svg xmlns=\"http://www.w3.org/2000/svg\" height=\"24px\"viewBox=\"0 0 24 24\"\n",
              "       width=\"24px\">\n",
              "    <path d=\"M7,19H8.4L18.45,9,17,7.55,7,17.6ZM5,21V16.75L18.45,3.32a2,2,0,0,1,2.83,0l1.4,1.43a1.91,1.91,0,0,1,.58,1.4,1.91,1.91,0,0,1-.58,1.4L9.25,21ZM18.45,9,17,7.55Zm-12,3A5.31,5.31,0,0,0,4.9,8.1,5.31,5.31,0,0,0,1,6.5,5.31,5.31,0,0,0,4.9,4.9,5.31,5.31,0,0,0,6.5,1,5.31,5.31,0,0,0,8.1,4.9,5.31,5.31,0,0,0,12,6.5,5.46,5.46,0,0,0,6.5,12Z\"/>\n",
              "  </svg>\n",
              "    </button>\n",
              "    <script>\n",
              "      (() => {\n",
              "      const buttonEl =\n",
              "        document.querySelector('#id_b4339a5a-4ee4-4eca-be8e-6f294073ed5e button.colab-df-generate');\n",
              "      buttonEl.style.display =\n",
              "        google.colab.kernel.accessAllowed ? 'block' : 'none';\n",
              "\n",
              "      buttonEl.onclick = () => {\n",
              "        google.colab.notebook.generateWithVariable('feature_importance_df');\n",
              "      }\n",
              "      })();\n",
              "    </script>\n",
              "  </div>\n",
              "\n",
              "    </div>\n",
              "  </div>\n"
            ],
            "application/vnd.google.colaboratory.intrinsic+json": {
              "type": "dataframe",
              "variable_name": "feature_importance_df",
              "summary": "{\n  \"name\": \"feature_importance_df\",\n  \"rows\": 23,\n  \"fields\": [\n    {\n      \"column\": \"feature\",\n      \"properties\": {\n        \"dtype\": \"string\",\n        \"num_unique_values\": 23,\n        \"samples\": [\n          \"Conductivity\",\n          \"Iron\",\n          \"Manganese\"\n        ],\n        \"semantic_type\": \"\",\n        \"description\": \"\"\n      }\n    },\n    {\n      \"column\": \"importance\",\n      \"properties\": {\n        \"dtype\": \"number\",\n        \"std\": 0.03350251804901936,\n        \"min\": 0.00599644200822419,\n        \"max\": 0.11934134368042847,\n        \"num_unique_values\": 23,\n        \"samples\": [\n          0.015083382017317864,\n          0.04858115684529861,\n          0.11934134368042847\n        ],\n        \"semantic_type\": \"\",\n        \"description\": \"\"\n      }\n    }\n  ]\n}"
            }
          },
          "metadata": {},
          "execution_count": 9
        }
      ],
      "source": [
        "feature_importance_df"
      ]
    },
    {
      "cell_type": "code",
      "source": [
        "feature_importance_df.to_csv(\"drive/MyDrive/Major Project/RF_features.csv\")"
      ],
      "metadata": {
        "id": "LYjTqgJ0nvt4"
      },
      "execution_count": null,
      "outputs": []
    },
    {
      "cell_type": "code",
      "source": [
        "import pandas as pd\n",
        "import numpy as np\n",
        "import matplotlib.pyplot as plt\n",
        "import seaborn as sns\n",
        "import warnings\n",
        "warnings.filterwarnings('ignore')\n",
        "from sklearn.model_selection import train_test_split\n",
        "from sklearn.ensemble import RandomForestClassifier\n",
        "from sklearn.metrics import classification_report, confusion_matrix\n",
        "from imblearn.over_sampling import SMOTE\n",
        "from tqdm import tqdm"
      ],
      "metadata": {
        "id": "xJlJH6ykAAfL"
      },
      "execution_count": null,
      "outputs": []
    },
    {
      "cell_type": "code",
      "source": [
        "from google.colab import drive\n",
        "drive.mount('drive')"
      ],
      "metadata": {
        "colab": {
          "base_uri": "https://localhost:8080/"
        },
        "id": "GczITJ4cAe1j",
        "outputId": "2ce94ae0-76ef-4695-e4f6-fcd3ffdaee11"
      },
      "execution_count": null,
      "outputs": [
        {
          "output_type": "stream",
          "name": "stdout",
          "text": [
            "Mounted at drive\n"
          ]
        }
      ]
    },
    {
      "cell_type": "code",
      "source": [
        "def sample_data(data, target, sample_fraction=0.1, random_state=42):\n",
        "    \"\"\"\n",
        "    Randomly sample a fraction of the dataset while preserving class distribution.\n",
        "\n",
        "    Parameters:\n",
        "    - data: DataFrame, the full dataset.\n",
        "    - target: str, the target column name.\n",
        "    - sample_fraction: float, the fraction of data to sample (default: 0.1, or 10%).\n",
        "    - random_state: int, random seed for reproducibility.\n",
        "\n",
        "    Returns:\n",
        "    - sampled_data: DataFrame, sampled data with preserved class distribution.\n",
        "    \"\"\"\n",
        "    # Ensure class distribution is preserved using stratified sampling\n",
        "    sampled_data = data.groupby(target, group_keys=False).apply(\n",
        "        lambda x: x.sample(frac=sample_fraction, random_state=random_state)\n",
        "    )\n",
        "    return sampled_data"
      ],
      "metadata": {
        "id": "juoj12kcKBiA"
      },
      "execution_count": null,
      "outputs": []
    },
    {
      "cell_type": "code",
      "source": [
        "def select_features(data, important_features, num_features):\n",
        "    \"\"\"\n",
        "    Select top `num_features` from the already sorted list of important features.\n",
        "    \"\"\"\n",
        "    selected_features = important_features[:num_features]\n",
        "    return data[selected_features]"
      ],
      "metadata": {
        "id": "4xwi9EloKEjL"
      },
      "execution_count": null,
      "outputs": []
    },
    {
      "cell_type": "code",
      "source": [
        "def split_data(X, y, test_size=0.1, random_state=42):\n",
        "    \"\"\"\n",
        "    Split the data into training and testing sets.\n",
        "    \"\"\"\n",
        "    return train_test_split(X, y, test_size=test_size, random_state=random_state, stratify=y)"
      ],
      "metadata": {
        "id": "23w003uDKGFw"
      },
      "execution_count": null,
      "outputs": []
    },
    {
      "cell_type": "code",
      "source": [
        "def balance_data(X_train, y_train):\n",
        "    \"\"\"\n",
        "    Apply SMOTE to balance the training data.\n",
        "    \"\"\"\n",
        "    sm = SMOTE(random_state=42)\n",
        "    X_train_resampled, y_train_resampled = sm.fit_resample(X_train, y_train)\n",
        "    return X_train_resampled, y_train_resampled"
      ],
      "metadata": {
        "id": "m_hfV7zaKI5Y"
      },
      "execution_count": null,
      "outputs": []
    },
    {
      "cell_type": "code",
      "source": [
        "def train_model(X_train, y_train):\n",
        "    \"\"\"\n",
        "    Train the RandomForest model with tqdm progress bar.\n",
        "    \"\"\"\n",
        "    model = RandomForestClassifier(random_state=42)\n",
        "\n",
        "    # Wrapping the model fitting inside tqdm to show progress\n",
        "    with tqdm(total=len(X_train), desc=\"Training Model\") as pbar:\n",
        "        model.fit(X_train, y_train)\n",
        "        pbar.update(len(X_train))  # Update progress bar once training is complete\n",
        "\n",
        "    return model"
      ],
      "metadata": {
        "id": "gr7vLyG5KKh5"
      },
      "execution_count": null,
      "outputs": []
    },
    {
      "cell_type": "code",
      "source": [
        "def evaluate_model(model, X_test, y_test):\n",
        "    \"\"\"\n",
        "    Evaluate the model and return classification report and confusion matrix.\n",
        "    \"\"\"\n",
        "    y_pred = model.predict(X_test)\n",
        "    return classification_report(y_test, y_pred), confusion_matrix(y_test, y_pred)"
      ],
      "metadata": {
        "id": "Mq_K54KWKMw_"
      },
      "execution_count": null,
      "outputs": []
    },
    {
      "cell_type": "code",
      "source": [
        "def train_and_evaluate(data, target, important_features, num_features=10, sample_fraction=0.1):\n",
        "    \"\"\"\n",
        "    Train and evaluate the Random Forest model on selected features with optional data sampling.\n",
        "    \"\"\"\n",
        "    # Step 0: Sample the data\n",
        "    data_sampled = sample_data(data, target, sample_fraction=sample_fraction)\n",
        "\n",
        "    # Step 1: Select features\n",
        "    X = select_features(data_sampled, important_features, num_features)\n",
        "    y = data_sampled[target]\n",
        "\n",
        "    # Step 2: Split data into training and testing sets\n",
        "    X_train, X_test, y_train, y_test = split_data(X, y)\n",
        "\n",
        "    # Step 3: Balance training data using SMOTE\n",
        "    X_train_resampled, y_train_resampled = balance_data(X_train, y_train)\n",
        "\n",
        "    # Step 4: Train the model\n",
        "    model = train_model(X_train_resampled, y_train_resampled)\n",
        "\n",
        "    # Step 5: Evaluate the model\n",
        "    class_report, conf_matrix = evaluate_model(model, X_test, y_test)\n",
        "\n",
        "    # Print the evaluation results\n",
        "    print(\"Classification Report:\\n\", class_report)\n",
        "\n",
        "    plt.figure(figsize = (6,4))\n",
        "    sns.heatmap(conf_matrix, annot = True, fmt = \"d\", cmap = \"Blues\", xticklabels = model.classes_, yticklabels = model.classes_)\n",
        "    plt.title(\"Confusion Matrix\")\n",
        "    plt.xlabel('Predicted')\n",
        "    plt.ylabel('True labels')\n",
        "    plt.show()\n",
        "    return class_report, conf_matrix"
      ],
      "metadata": {
        "id": "O_qb0wrRKQzk"
      },
      "execution_count": null,
      "outputs": []
    },
    {
      "cell_type": "code",
      "source": [
        "data = pd.read_csv(\"drive/MyDrive/Major Project/dataset_processed.csv\")\n",
        "target = 'Target'\n",
        "num_features = 5"
      ],
      "metadata": {
        "id": "m-bW4VjmEBjo"
      },
      "execution_count": null,
      "outputs": []
    },
    {
      "cell_type": "code",
      "source": [
        "features = pd.read_csv(\"drive/MyDrive/Major Project/RF_features.csv\")\n",
        "important_features = features['feature'].to_list()\n",
        "important_features = [i for i in important_features if i != 'Index' ]"
      ],
      "metadata": {
        "id": "2ZyJrZoRK-nR"
      },
      "execution_count": null,
      "outputs": []
    },
    {
      "cell_type": "code",
      "source": [
        "train_and_evaluate(data,\n",
        "                   target,\n",
        "                   important_features,\n",
        "                   num_features = num_features)"
      ],
      "metadata": {
        "colab": {
          "base_uri": "https://localhost:8080/",
          "height": 722
        },
        "id": "z_NTMp86I9Cy",
        "outputId": "4d8e3c32-1742-4ade-9b7c-8e0ce66b3f4a"
      },
      "execution_count": null,
      "outputs": [
        {
          "output_type": "stream",
          "name": "stderr",
          "text": [
            "Training Model: 100%|██████████| 418948/418948 [05:54<00:00, 1181.27it/s]\n"
          ]
        },
        {
          "output_type": "stream",
          "name": "stdout",
          "text": [
            "Classification Report:\n",
            "               precision    recall  f1-score   support\n",
            "\n",
            "         0.0       0.92      0.86      0.89     69825\n",
            "         1.0       0.72      0.84      0.78     30212\n",
            "\n",
            "    accuracy                           0.85    100037\n",
            "   macro avg       0.82      0.85      0.83    100037\n",
            "weighted avg       0.86      0.85      0.86    100037\n",
            "\n"
          ]
        },
        {
          "output_type": "display_data",
          "data": {
            "text/plain": [
              "<Figure size 600x400 with 2 Axes>"
            ],
            "image/png": "[encoded data removed]"
          },
          "metadata": {}
        },
        {
          "output_type": "execute_result",
          "data": {
            "text/plain": [
              "('              precision    recall  f1-score   support\\n\\n         0.0       0.92      0.86      0.89     69825\\n         1.0       0.72      0.84      0.78     30212\\n\\n    accuracy                           0.85    100037\\n   macro avg       0.82      0.85      0.83    100037\\nweighted avg       0.86      0.85      0.86    100037\\n',\n",
              " array([[60046,  9779],\n",
              "        [ 4901, 25311]]))"
            ]
          },
          "metadata": {},
          "execution_count": 52
        }
      ]
    },
    {
      "cell_type": "code",
      "source": [
        "num_features_1 = 7\n",
        "\n",
        "train_and_evaluate(data,\n",
        "                   target,\n",
        "                   important_features,\n",
        "                   num_features = num_features_1)"
      ],
      "metadata": {
        "colab": {
          "base_uri": "https://localhost:8080/",
          "height": 722
        },
        "id": "bD283vy0IEMu",
        "outputId": "8f49e515-60ef-4065-dc19-390ca36a1e41"
      },
      "execution_count": null,
      "outputs": [
        {
          "output_type": "stream",
          "name": "stderr",
          "text": [
            "Training Model: 100%|██████████| 418948/418948 [05:59<00:00, 1164.89it/s]\n"
          ]
        },
        {
          "output_type": "stream",
          "name": "stdout",
          "text": [
            "Classification Report:\n",
            "               precision    recall  f1-score   support\n",
            "\n",
            "         0.0       0.95      0.85      0.90     69825\n",
            "         1.0       0.72      0.91      0.81     30212\n",
            "\n",
            "    accuracy                           0.87    100037\n",
            "   macro avg       0.84      0.88      0.85    100037\n",
            "weighted avg       0.89      0.87      0.87    100037\n",
            "\n"
          ]
        },
        {
          "output_type": "display_data",
          "data": {
            "text/plain": [
              "<Figure size 600x400 with 2 Axes>"
            ],
            "image/png": "[encoded data removed]"
          },
          "metadata": {}
        },
        {
          "output_type": "execute_result",
          "data": {
            "text/plain": [
              "('              precision    recall  f1-score   support\\n\\n         0.0       0.95      0.85      0.90     69825\\n         1.0       0.72      0.91      0.81     30212\\n\\n    accuracy                           0.87    100037\\n   macro avg       0.84      0.88      0.85    100037\\nweighted avg       0.89      0.87      0.87    100037\\n',\n",
              " array([[59360, 10465],\n",
              "        [ 2809, 27403]]))"
            ]
          },
          "metadata": {},
          "execution_count": 53
        }
      ]
    },
    {
      "cell_type": "code",
      "source": [
        "num_features_2 = 10\n",
        "\n",
        "train_and_evaluate(data,\n",
        "                   target,\n",
        "                   important_features,\n",
        "                   num_features = num_features_2)"
      ],
      "metadata": {
        "colab": {
          "base_uri": "https://localhost:8080/",
          "height": 722
        },
        "id": "Yj4gJQviUG-f",
        "outputId": "4fb04aef-2aa5-47e7-c13e-8d2cc8ae36cc"
      },
      "execution_count": null,
      "outputs": [
        {
          "output_type": "stream",
          "name": "stderr",
          "text": [
            "Training Model: 100%|██████████| 418948/418948 [09:02<00:00, 771.93it/s]\n"
          ]
        },
        {
          "output_type": "stream",
          "name": "stdout",
          "text": [
            "Classification Report:\n",
            "               precision    recall  f1-score   support\n",
            "\n",
            "         0.0       0.98      0.84      0.91     69825\n",
            "         1.0       0.72      0.96      0.83     30212\n",
            "\n",
            "    accuracy                           0.88    100037\n",
            "   macro avg       0.85      0.90      0.87    100037\n",
            "weighted avg       0.90      0.88      0.88    100037\n",
            "\n"
          ]
        },
        {
          "output_type": "display_data",
          "data": {
            "text/plain": [
              "<Figure size 600x400 with 2 Axes>"
            ],
            "image/png": "[encoded data removed]"
          },
          "metadata": {}
        },
        {
          "output_type": "execute_result",
          "data": {
            "text/plain": [
              "('              precision    recall  f1-score   support\\n\\n         0.0       0.98      0.84      0.91     69825\\n         1.0       0.72      0.96      0.83     30212\\n\\n    accuracy                           0.88    100037\\n   macro avg       0.85      0.90      0.87    100037\\nweighted avg       0.90      0.88      0.88    100037\\n',\n",
              " array([[58830, 10995],\n",
              "        [ 1276, 28936]]))"
            ]
          },
          "metadata": {},
          "execution_count": 54
        }
      ]
    },
    {
      "cell_type": "code",
      "source": [],
      "metadata": {
        "id": "Za2RFKqTUNEj"
      },
      "execution_count": null,
      "outputs": []
    }
  ],
  "metadata": {
    "colab": {
      "provenance": []
    },
    "kernelspec": {
      "display_name": "Python 3",
      "name": "python3"
    },
    "language_info": {
      "name": "python"
    }
  },
  "nbformat": 4,
  "nbformat_minor": 0
}